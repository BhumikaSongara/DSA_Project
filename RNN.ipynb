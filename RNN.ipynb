{
  "nbformat": 4,
  "nbformat_minor": 0,
  "metadata": {
    "colab": {
      "provenance": [],
      "authorship_tag": "ABX9TyO25HLW9e+l36dIX3ZzdFw2",
      "include_colab_link": true
    },
    "kernelspec": {
      "name": "python3",
      "display_name": "Python 3"
    },
    "language_info": {
      "name": "python"
    }
  },
  "cells": [
    {
      "cell_type": "markdown",
      "metadata": {
        "id": "view-in-github",
        "colab_type": "text"
      },
      "source": [
        "<a href=\"https://colab.research.google.com/github/BhumikaSongara/DSA_Project/blob/main/RNN.ipynb\" target=\"_parent\"><img src=\"https://colab.research.google.com/assets/colab-badge.svg\" alt=\"Open In Colab\"/></a>"
      ]
    },
    {
      "cell_type": "code",
      "source": [
        "from pandas import read_csv\n",
        "import numpy as np\n",
        "from keras.models import Sequential\n",
        "from keras.layers import Dense, SimpleRNN\n",
        "from sklearn.preprocessing import MinMaxScaler\n",
        "from sklearn.metrics import mean_squared_error\n",
        "import math\n",
        "import matplotlib.pyplot as plt\n",
        "\n",
        "# Model Created by TF Keras inbuilt functions\n",
        "def create_RNN(hidden_units, dense_units, input_shape, activation):\n",
        "    model = Sequential()\n",
        "    model.add(SimpleRNN(hidden_units, input_shape=input_shape, activation=activation))\n",
        "    model.add(Dense(units=dense_units, activation=activation))\n",
        "    model.compile(loss='mean_squared_error', optimizer='adam')\n",
        "    return model\n",
        "\n",
        "# Create demo model\n",
        "demo_model = create_RNN(2, 1, (3, 1), 'linear')\n",
        "\n",
        "# Prediction of Model created by TF Keras\n",
        "x = np.array([3, 3, 3])\n",
        "\n",
        "# Reshape the input to the required sample_size x time_steps x features\n",
        "x_input = np.reshape(x, (1, 3, 1))\n",
        "y_pred_model = demo_model.predict(x_input)  # Prediction from network from keras library\n",
        "\n",
        "# Get weights from the model\n",
        "wx, wh, bh, wy, by = demo_model.get_weights()\n",
        "\n",
        "print('wx:', wx)\n",
        "print('wh:', wh)\n",
        "print('bh:', bh)\n",
        "print('wy:', wy)\n",
        "print('by:', by)\n",
        "\n",
        "# Model built using discrete equations and linear activation function\n",
        "# Prediction from our computation\n",
        "# Assuming 2 Hidden Layers so accordingly weights are required for RNN\n",
        "h0 = np.ones((2))  # Initialization\n",
        "h1 = np.dot(x[0], wx) + bh  # Input layer\n",
        "h2 = np.dot(x[1], wx) + np.dot(h1, wh) + bh  # First Hidden Layer feedback in RNN\n",
        "h3 = np.dot(x[2], wx) + np.dot(h2, wh) + bh  # Second Hidden Layer\n",
        "y3 = np.dot(h3, wy) + by  # MLP Dense output layer\n",
        "\n",
        "print('h0:', h0, 'h1:', h1, 'h2:', h2, 'h3:', h3)\n",
        "print(\"Prediction from network:\", y_pred_model)\n",
        "print(\"Prediction from our computation:\", y3)\n"
      ],
      "metadata": {
        "colab": {
          "base_uri": "https://localhost:8080/"
        },
        "id": "XJ9qM2pj0CLs",
        "outputId": "bf2b9872-595e-4d9e-93aa-1aae49dfbf85"
      },
      "execution_count": 5,
      "outputs": [
        {
          "output_type": "stream",
          "name": "stdout",
          "text": [
            "1/1 [==============================] - 0s 401ms/step\n",
            "wx: [[1.0079721 1.3877498]]\n",
            "wh: [[-0.7784616   0.62769234]\n",
            " [-0.62769234 -0.7784615 ]]\n",
            "bh: [0. 0.]\n",
            "wy: [[ 0.8362447]\n",
            " [-0.9037157]]\n",
            "by: [0.]\n",
            "h0: [1. 1.] h1: [[3.02391636 4.16324937]] h2: [[-1.94332608  2.8204091 ]] h3: [[2.76637185 0.74785853]]\n",
            "Prediction from network: [[1.6375118]]\n",
            "Prediction from our computation: [[1.63751229]]\n"
          ]
        }
      ]
    }
  ]
}