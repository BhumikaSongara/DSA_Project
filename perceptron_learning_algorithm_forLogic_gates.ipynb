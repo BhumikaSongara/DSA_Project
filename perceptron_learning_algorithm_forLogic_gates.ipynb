{
  "nbformat": 4,
  "nbformat_minor": 0,
  "metadata": {
    "colab": {
      "provenance": [],
      "include_colab_link": true
    },
    "kernelspec": {
      "name": "python3",
      "display_name": "Python 3"
    },
    "language_info": {
      "name": "python"
    }
  },
  "cells": [
    {
      "cell_type": "markdown",
      "metadata": {
        "id": "view-in-github",
        "colab_type": "text"
      },
      "source": [
        "<a href=\"https://colab.research.google.com/github/BhumikaSongara/DSA_Project/blob/main/perceptron_learning_algorithm_forLogic_gates.ipynb\" target=\"_parent\"><img src=\"https://colab.research.google.com/assets/colab-badge.svg\" alt=\"Open In Colab\"/></a>"
      ]
    },
    {
      "cell_type": "code",
      "source": [],
      "metadata": {
        "id": "wXb0KWuX8ET7"
      },
      "execution_count": null,
      "outputs": []
    },
    {
      "cell_type": "code",
      "source": [],
      "metadata": {
        "id": "QmJ2yKmm8FJk"
      },
      "execution_count": null,
      "outputs": []
    },
    {
      "cell_type": "code",
      "source": [],
      "metadata": {
        "id": "wPa0YTh88ENb"
      },
      "execution_count": null,
      "outputs": []
    },
    {
      "cell_type": "code",
      "source": [],
      "metadata": {
        "id": "9DsNVIcN8EJ1"
      },
      "execution_count": null,
      "outputs": []
    },
    {
      "cell_type": "code",
      "source": [],
      "metadata": {
        "id": "tgKtlOYO8EGA"
      },
      "execution_count": null,
      "outputs": []
    },
    {
      "cell_type": "code",
      "source": [],
      "metadata": {
        "id": "5GGAaFvN8ECm"
      },
      "execution_count": null,
      "outputs": []
    },
    {
      "cell_type": "code",
      "source": [],
      "metadata": {
        "id": "4yRdm8fj8D--"
      },
      "execution_count": null,
      "outputs": []
    },
    {
      "cell_type": "code",
      "source": [],
      "metadata": {
        "id": "zfjkhq-08D7W"
      },
      "execution_count": null,
      "outputs": []
    },
    {
      "cell_type": "code",
      "source": [],
      "metadata": {
        "id": "FXVVOsp18D3t"
      },
      "execution_count": null,
      "outputs": []
    },
    {
      "cell_type": "code",
      "source": [],
      "metadata": {
        "id": "zy-kmTWy8D0r"
      },
      "execution_count": null,
      "outputs": []
    },
    {
      "cell_type": "code",
      "source": [],
      "metadata": {
        "id": "geqLQKup8Dxb"
      },
      "execution_count": null,
      "outputs": []
    },
    {
      "cell_type": "code",
      "source": [],
      "metadata": {
        "id": "2x-6OgBU8DuM"
      },
      "execution_count": null,
      "outputs": []
    },
    {
      "cell_type": "code",
      "source": [],
      "metadata": {
        "id": "esgbm9yk8Dqc"
      },
      "execution_count": null,
      "outputs": []
    },
    {
      "cell_type": "code",
      "execution_count": 1,
      "metadata": {
        "id": "4zJjz_IRBgm7"
      },
      "outputs": [],
      "source": [
        "#inilialize libraries\n",
        "import numpy as np"
      ]
    },
    {
      "cell_type": "code",
      "source": [
        "#define heavyside step function\n",
        "def unit_step(v):\n",
        " if v>0:\n",
        "  return 1\n",
        " else:\n",
        "   return 0"
      ],
      "metadata": {
        "id": "uhgOFLLkBqMo"
      },
      "execution_count": 2,
      "outputs": []
    },
    {
      "cell_type": "code",
      "source": [
        "#Function implemented by a perception with weigth vector and bias b\n",
        "def perceptron(x,w,b):\n",
        " v=np.dot(w,x)+b\n",
        " y=unit_step(v)\n",
        " return y"
      ],
      "metadata": {
        "id": "1FXBRm8eB2Jf"
      },
      "execution_count": 3,
      "outputs": []
    },
    {
      "cell_type": "code",
      "source": [
        "#AND function\n",
        " #Assume w1=1;w2=1;b=-1.5\n",
        "def AND_percep(x):\n",
        " w=np.array([1,1])\n",
        " b=-1.5\n",
        " return perceptron(x,w,b)"
      ],
      "metadata": {
        "id": "-pqEsxgQCCnx"
      },
      "execution_count": 4,
      "outputs": []
    },
    {
      "cell_type": "code",
      "source": [
        "#OR function\n",
        "#Assume w1=1;w2=b=-0.5\n",
        "def OR_percep(x):\n",
        " w=np.array([1,1])\n",
        " b=-0.5\n",
        " return perceptron(x,w,b)"
      ],
      "metadata": {
        "id": "8EeRho13COAg"
      },
      "execution_count": 5,
      "outputs": []
    },
    {
      "cell_type": "code",
      "source": [
        "#Test input\n",
        "example1=np.array([1,1])\n",
        "example2=np.array([1,0])\n",
        "example3=np.array([0,1])\n",
        "example4=np.array([0,0])"
      ],
      "metadata": {
        "id": "u71HqIJPCTyS"
      },
      "execution_count": 6,
      "outputs": []
    },
    {
      "cell_type": "code",
      "source": [
        "print(\"AND({},{})={}\".format(1,1,AND_percep(example1)))\n",
        "print(\"AND({},{})={}\".format(1,0,AND_percep(example2)))\n",
        "print(\"AND({},{})={}\".format(0,1,AND_percep(example3)))\n",
        "print(\"AND({},{})={}\".format(0,0,AND_percep(example4)))"
      ],
      "metadata": {
        "colab": {
          "base_uri": "https://localhost:8080/"
        },
        "id": "_PYeBHwyCVlB",
        "outputId": "da36bb96-1277-416e-b0a8-754143eecc95"
      },
      "execution_count": 7,
      "outputs": [
        {
          "output_type": "stream",
          "name": "stdout",
          "text": [
            "AND(1,1)=1\n",
            "AND(1,0)=0\n",
            "AND(0,1)=0\n",
            "AND(0,0)=0\n"
          ]
        }
      ]
    },
    {
      "cell_type": "code",
      "source": [
        "print(\"OR({},{})={}\".format(1,1,OR_percep(example1)))\n",
        "print(\"OR({},{})={}\".format(1,0,OR_percep(example2)))\n",
        "print(\"OR({},{})={}\".format(0,1,OR_percep(example3)))\n",
        "print(\"OR({},{})={}\".format(0,0,OR_percep(example4)))"
      ],
      "metadata": {
        "colab": {
          "base_uri": "https://localhost:8080/"
        },
        "id": "I3GXF4BQCefF",
        "outputId": "753b7d04-adfe-4d21-80a5-51de48e00830"
      },
      "execution_count": 8,
      "outputs": [
        {
          "output_type": "stream",
          "name": "stdout",
          "text": [
            "OR(1,1)=1\n",
            "OR(1,0)=1\n",
            "OR(0,1)=1\n",
            "OR(0,0)=0\n"
          ]
        }
      ]
    },
    {
      "cell_type": "code",
      "source": [
        "def NOT_percep(x):\n",
        " return perceptron(x,w=-1,b=0.5)"
      ],
      "metadata": {
        "id": "aon44OHdCms7"
      },
      "execution_count": 9,
      "outputs": []
    },
    {
      "cell_type": "code",
      "source": [
        "#XOR\n",
        " #XOR (x1,x2)=AND(NOT(AND(x1,x2)),OR(x1,x2))\n",
        "def XOR(x):\n",
        " gate_1=AND_percep(x)\n",
        " gate_2=NOT_percep(gate_1)\n",
        " gate_3=OR_percep(x)\n",
        " new_x=np.array([gate_2,gate_3])\n",
        " output=AND_percep(new_x)\n",
        " return output"
      ],
      "metadata": {
        "id": "gYx6CP7FCsC2"
      },
      "execution_count": 10,
      "outputs": []
    },
    {
      "cell_type": "code",
      "source": [
        "print(\"XOR({},{})={}\".format(1,1,XOR(example1)))\n",
        "print(\"XOR({},{})={}\".format(1,0,XOR(example2)))\n",
        "print(\"XOR({},{})={}\".format(0,1,XOR(example3)))\n",
        "print(\"XOR({},{})={}\".format(0,0,XOR(example4)))"
      ],
      "metadata": {
        "colab": {
          "base_uri": "https://localhost:8080/"
        },
        "id": "H4aM7ekzCyxQ",
        "outputId": "4ed5ce36-d5d2-4f66-8859-9ec0594a273f"
      },
      "execution_count": 11,
      "outputs": [
        {
          "output_type": "stream",
          "name": "stdout",
          "text": [
            "XOR(1,1)=0\n",
            "XOR(1,0)=1\n",
            "XOR(0,1)=1\n",
            "XOR(0,0)=0\n"
          ]
        }
      ]
    }
  ]
}