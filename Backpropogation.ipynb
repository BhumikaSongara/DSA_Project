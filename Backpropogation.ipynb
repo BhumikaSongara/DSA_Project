{
  "nbformat": 4,
  "nbformat_minor": 0,
  "metadata": {
    "colab": {
      "provenance": [],
      "include_colab_link": true
    },
    "kernelspec": {
      "name": "python3",
      "display_name": "Python 3"
    },
    "language_info": {
      "name": "python"
    }
  },
  "cells": [
    {
      "cell_type": "markdown",
      "metadata": {
        "id": "view-in-github",
        "colab_type": "text"
      },
      "source": [
        "<a href=\"https://colab.research.google.com/github/BhumikaSongara/DSA_Project/blob/main/Backpropogation.ipynb\" target=\"_parent\"><img src=\"https://colab.research.google.com/assets/colab-badge.svg\" alt=\"Open In Colab\"/></a>"
      ]
    },
    {
      "cell_type": "code",
      "source": [],
      "metadata": {
        "id": "10h3ChBd7wFz"
      },
      "execution_count": null,
      "outputs": []
    },
    {
      "cell_type": "code",
      "source": [],
      "metadata": {
        "id": "KkRjdyad7v_u"
      },
      "execution_count": null,
      "outputs": []
    },
    {
      "cell_type": "code",
      "source": [],
      "metadata": {
        "id": "EvmAQE257v72"
      },
      "execution_count": null,
      "outputs": []
    },
    {
      "cell_type": "code",
      "source": [],
      "metadata": {
        "id": "bxqBfugJ7v39"
      },
      "execution_count": null,
      "outputs": []
    },
    {
      "cell_type": "code",
      "source": [],
      "metadata": {
        "id": "vijR76c97v0d"
      },
      "execution_count": null,
      "outputs": []
    },
    {
      "cell_type": "code",
      "source": [],
      "metadata": {
        "id": "3rLbwA8v7vwm"
      },
      "execution_count": null,
      "outputs": []
    },
    {
      "cell_type": "code",
      "source": [],
      "metadata": {
        "id": "Q-7NNU3Q7vtE"
      },
      "execution_count": null,
      "outputs": []
    },
    {
      "cell_type": "code",
      "source": [],
      "metadata": {
        "id": "gkk5-kYL7vpc"
      },
      "execution_count": null,
      "outputs": []
    },
    {
      "cell_type": "code",
      "source": [],
      "metadata": {
        "id": "tC7bxhmu7vlu"
      },
      "execution_count": null,
      "outputs": []
    },
    {
      "cell_type": "code",
      "source": [],
      "metadata": {
        "id": "rK7d_3Ob7viU"
      },
      "execution_count": null,
      "outputs": []
    },
    {
      "cell_type": "code",
      "source": [],
      "metadata": {
        "id": "Uo3znQ7W7ve7"
      },
      "execution_count": null,
      "outputs": []
    },
    {
      "cell_type": "code",
      "source": [],
      "metadata": {
        "id": "rdTLfpsG7vas"
      },
      "execution_count": null,
      "outputs": []
    },
    {
      "cell_type": "code",
      "execution_count": null,
      "metadata": {
        "id": "JybAeqoLECIX"
      },
      "outputs": [],
      "source": [
        "import numpy as np\n",
        "import matplotlib.pyplot as plt\n",
        "#inputs\n",
        "x=np.array([[0,0,1,1],[0,1,0,1]])\n",
        "#output\n",
        "y=np.array([[0,1,1,1]])\n",
        " #number of inputs\n",
        "num_x=2\n",
        " #number of neurons\n",
        "num_y=1\n",
        "m=x.shape[1]"
      ]
    },
    {
      "cell_type": "code",
      "source": [
        "# learning rate\n",
        "lr = 0.1\n",
        "# defining weights\n",
        "wz = np.random.rand(num_y, num_x)\n",
        "losses = []\n",
        "# defining sigmoidal activation function\n",
        "def sigmoid(z):\n",
        "  z = 1 / (1 + np.exp(-z))\n",
        "  return z"
      ],
      "metadata": {
        "id": "Usl7ZNo4EVCl"
      },
      "execution_count": null,
      "outputs": []
    },
    {
      "cell_type": "code",
      "source": [
        "# forward pass\n",
        "def forwardpass(wz, x):\n",
        "   z2 = np.matmul(wz, x)\n",
        "   # np.matmul is equivalent to np.dot for 2D arrays\n",
        "   a2 = sigmoid(z2)\n",
        "   print(z2)\n",
        "   print(y)\n",
        "   return z2, a2"
      ],
      "metadata": {
        "id": "kBtUNGLqEavR"
      },
      "execution_count": null,
      "outputs": []
    },
    {
      "cell_type": "code",
      "source": [
        "#backpropagation\n",
        "def backpropagation(m,z2,a2,y,x):\n",
        "  # a2=o/p of activation\n",
        "  dz2=(a2-y)*a2*(1-a2)\n",
        "  dw2=np.dot(dz2,x.T)\n",
        "  return dz2,dw2"
      ],
      "metadata": {
        "id": "SM1AX9KUEl71"
      },
      "execution_count": null,
      "outputs": []
    },
    {
      "cell_type": "code",
      "source": [
        "iterations = 100\n",
        "\n",
        "for i in range(iterations):\n",
        "  z2, a2 = forwardpass(wz, x)\n",
        "  loss1 = (1/2) * np.square(a2 - y)\n",
        "  loss = np.mean(loss1)\n",
        "  losses.append(loss)\n",
        "  dz2, dw2 = backpropagation(m, z2, a2, y, x)\n",
        "  wz = wz - lr * dw2"
      ],
      "metadata": {
        "colab": {
          "base_uri": "https://localhost:8080/"
        },
        "id": "wOWWYLMkHAPq",
        "outputId": "9491a66c-ab9c-471c-be83-a0537a8bb275"
      },
      "execution_count": null,
      "outputs": [
        {
          "output_type": "stream",
          "name": "stdout",
          "text": [
            "[[0.         0.91297254 0.94752054 1.86049307]]\n",
            "[[0 1 1 1]]\n",
            "[[0.         0.92039442 0.95471416 1.87510858]]\n",
            "[[0 1 1 1]]\n",
            "[[0.         0.92773062 0.96182466 1.88955528]]\n",
            "[[0 1 1 1]]\n",
            "[[0.         0.93498306 0.96885391 1.90383697]]\n",
            "[[0 1 1 1]]\n",
            "[[0.         0.94215361 0.97580375 1.91795736]]\n",
            "[[0 1 1 1]]\n",
            "[[0.         0.94924407 0.98267593 1.93192001]]\n",
            "[[0 1 1 1]]\n",
            "[[0.         0.95625619 0.98947218 1.94572837]]\n",
            "[[0 1 1 1]]\n",
            "[[0.         0.96319164 0.99619415 1.95938579]]\n",
            "[[0 1 1 1]]\n",
            "[[0.         0.97005207 1.00284344 1.97289551]]\n",
            "[[0 1 1 1]]\n",
            "[[0.         0.97683906 1.0094216  1.98626066]]\n",
            "[[0 1 1 1]]\n",
            "[[0.         0.98355415 1.01593014 1.99948429]]\n",
            "[[0 1 1 1]]\n",
            "[[0.         0.99019883 1.02237052 2.01256935]]\n",
            "[[0 1 1 1]]\n",
            "[[0.         0.99677454 1.02874415 2.02551869]]\n",
            "[[0 1 1 1]]\n",
            "[[0.         1.00328268 1.03505241 2.03833509]]\n",
            "[[0 1 1 1]]\n",
            "[[0.         1.00972462 1.04129661 2.05102123]]\n",
            "[[0 1 1 1]]\n",
            "[[0.         1.01610167 1.04747806 2.06357973]]\n",
            "[[0 1 1 1]]\n",
            "[[0.         1.02241511 1.053598   2.07601311]]\n",
            "[[0 1 1 1]]\n",
            "[[0.         1.0286662  1.05965765 2.08832385]]\n",
            "[[0 1 1 1]]\n",
            "[[0.         1.03485613 1.06565819 2.10051432]]\n",
            "[[0 1 1 1]]\n",
            "[[0.         1.04098608 1.07160077 2.11258684]]\n",
            "[[0 1 1 1]]\n",
            "[[0.         1.04705719 1.07748649 2.12454368]]\n",
            "[[0 1 1 1]]\n",
            "[[0.         1.05307057 1.08331644 2.13638701]]\n",
            "[[0 1 1 1]]\n",
            "[[0.         1.0590273  1.08909167 2.14811897]]\n",
            "[[0 1 1 1]]\n",
            "[[0.         1.06492843 1.0948132  2.15974163]]\n",
            "[[0 1 1 1]]\n",
            "[[0.         1.07077497 1.10048203 2.171257  ]]\n",
            "[[0 1 1 1]]\n",
            "[[0.         1.07656792 1.10609911 2.18266704]]\n",
            "[[0 1 1 1]]\n",
            "[[0.         1.08230825 1.1116654  2.19397365]]\n",
            "[[0 1 1 1]]\n",
            "[[0.         1.08799689 1.1171818  2.20517869]]\n",
            "[[0 1 1 1]]\n",
            "[[0.         1.09363476 1.12264921 2.21628397]]\n",
            "[[0 1 1 1]]\n",
            "[[0.         1.09922274 1.12806849 2.22729124]]\n",
            "[[0 1 1 1]]\n",
            "[[0.         1.10476172 1.13344049 2.23820221]]\n",
            "[[0 1 1 1]]\n",
            "[[0.         1.11025252 1.13876603 2.24901855]]\n",
            "[[0 1 1 1]]\n",
            "[[0.         1.11569599 1.1440459  2.25974189]]\n",
            "[[0 1 1 1]]\n",
            "[[0.         1.12109291 1.14928089 2.2703738 ]]\n",
            "[[0 1 1 1]]\n",
            "[[0.         1.12644407 1.15447176 2.28091583]]\n",
            "[[0 1 1 1]]\n",
            "[[0.         1.13175024 1.15961925 2.29136949]]\n",
            "[[0 1 1 1]]\n",
            "[[0.         1.13701216 1.16472408 2.30173624]]\n",
            "[[0 1 1 1]]\n",
            "[[0.         1.14223055 1.16978695 2.3120175 ]]\n",
            "[[0 1 1 1]]\n",
            "[[0.         1.14740613 1.17480856 2.32221468]]\n",
            "[[0 1 1 1]]\n",
            "[[0.         1.15253957 1.17978957 2.33232914]]\n",
            "[[0 1 1 1]]\n",
            "[[0.         1.15763157 1.18473063 2.3423622 ]]\n",
            "[[0 1 1 1]]\n",
            "[[0.         1.16268277 1.18963239 2.35231516]]\n",
            "[[0 1 1 1]]\n",
            "[[0.         1.16769383 1.19449547 2.36218929]]\n",
            "[[0 1 1 1]]\n",
            "[[0.         1.17266535 1.19932047 2.37198582]]\n",
            "[[0 1 1 1]]\n",
            "[[0.         1.17759797 1.20410799 2.38170596]]\n",
            "[[0 1 1 1]]\n",
            "[[0.         1.18249228 1.20885861 2.39135089]]\n",
            "[[0 1 1 1]]\n",
            "[[0.         1.18734886 1.21357289 2.40092175]]\n",
            "[[0 1 1 1]]\n",
            "[[0.         1.19216829 1.21825139 2.41041968]]\n",
            "[[0 1 1 1]]\n",
            "[[0.         1.19695112 1.22289465 2.41984577]]\n",
            "[[0 1 1 1]]\n",
            "[[0.         1.2016979  1.2275032  2.42920109]]\n",
            "[[0 1 1 1]]\n",
            "[[0.         1.20640916 1.23207755 2.43848671]]\n",
            "[[0 1 1 1]]\n",
            "[[0.         1.21108543 1.23661821 2.44770364]]\n",
            "[[0 1 1 1]]\n",
            "[[0.         1.21572722 1.24112567 2.45685289]]\n",
            "[[0 1 1 1]]\n",
            "[[0.         1.22033503 1.24560042 2.46593544]]\n",
            "[[0 1 1 1]]\n",
            "[[0.         1.22490934 1.25004292 2.47495226]]\n",
            "[[0 1 1 1]]\n",
            "[[0.         1.22945063 1.25445364 2.48390428]]\n",
            "[[0 1 1 1]]\n",
            "[[0.         1.23395938 1.25883304 2.49279242]]\n",
            "[[0 1 1 1]]\n",
            "[[0.         1.23843604 1.26318155 2.50161759]]\n",
            "[[0 1 1 1]]\n",
            "[[0.         1.24288105 1.2674996  2.51038066]]\n",
            "[[0 1 1 1]]\n",
            "[[0.         1.24729487 1.27178763 2.5190825 ]]\n",
            "[[0 1 1 1]]\n",
            "[[0.         1.25167791 1.27604605 2.52772395]]\n",
            "[[0 1 1 1]]\n",
            "[[0.         1.2560306  1.28027525 2.53630585]]\n",
            "[[0 1 1 1]]\n",
            "[[0.         1.26035335 1.28447565 2.544829  ]]\n",
            "[[0 1 1 1]]\n",
            "[[0.         1.26464657 1.28864762 2.55329419]]\n",
            "[[0 1 1 1]]\n",
            "[[0.         1.26891065 1.29279156 2.56170221]]\n",
            "[[0 1 1 1]]\n",
            "[[0.         1.27314598 1.29690783 2.57005381]]\n",
            "[[0 1 1 1]]\n",
            "[[0.         1.27735294 1.30099681 2.57834975]]\n",
            "[[0 1 1 1]]\n",
            "[[0.         1.2815319  1.30505885 2.58659075]]\n",
            "[[0 1 1 1]]\n",
            "[[0.         1.28568323 1.3090943  2.59477753]]\n",
            "[[0 1 1 1]]\n",
            "[[0.         1.28980728 1.31310351 2.60291079]]\n",
            "[[0 1 1 1]]\n",
            "[[0.         1.29390441 1.31708682 2.61099123]]\n",
            "[[0 1 1 1]]\n",
            "[[0.         1.29797497 1.32104456 2.61901952]]\n",
            "[[0 1 1 1]]\n",
            "[[0.         1.30201928 1.32497705 2.62699633]]\n",
            "[[0 1 1 1]]\n",
            "[[0.         1.30603769 1.32888461 2.6349223 ]]\n",
            "[[0 1 1 1]]\n",
            "[[0.         1.31003051 1.33276757 2.64279808]]\n",
            "[[0 1 1 1]]\n",
            "[[0.         1.31399806 1.33662622 2.65062428]]\n",
            "[[0 1 1 1]]\n",
            "[[0.         1.31794067 1.34046086 2.65840153]]\n",
            "[[0 1 1 1]]\n",
            "[[0.         1.32185863 1.3442718  2.66613043]]\n",
            "[[0 1 1 1]]\n",
            "[[0.         1.32575225 1.34805931 2.67381156]]\n",
            "[[0 1 1 1]]\n",
            "[[0.         1.32962182 1.3518237  2.68144552]]\n",
            "[[0 1 1 1]]\n",
            "[[0.         1.33346764 1.35556523 2.68903286]]\n",
            "[[0 1 1 1]]\n",
            "[[0.         1.33728998 1.35928418 2.69657416]]\n",
            "[[0 1 1 1]]\n",
            "[[0.         1.34108914 1.36298082 2.70406996]]\n",
            "[[0 1 1 1]]\n",
            "[[0.         1.34486538 1.36665542 2.71152079]]\n",
            "[[0 1 1 1]]\n",
            "[[0.         1.34861897 1.37030823 2.7189272 ]]\n",
            "[[0 1 1 1]]\n",
            "[[0.         1.35235019 1.37393951 2.7262897 ]]\n",
            "[[0 1 1 1]]\n",
            "[[0.         1.35605929 1.37754951 2.7336088 ]]\n",
            "[[0 1 1 1]]\n",
            "[[0.         1.35974653 1.38113848 2.74088501]]\n",
            "[[0 1 1 1]]\n",
            "[[0.         1.36341215 1.38470667 2.74811882]]\n",
            "[[0 1 1 1]]\n",
            "[[0.         1.36705642 1.38825429 2.75531071]]\n",
            "[[0 1 1 1]]\n",
            "[[0.         1.37067957 1.39178161 2.76246117]]\n",
            "[[0 1 1 1]]\n",
            "[[0.         1.37428183 1.39528883 2.76957066]]\n",
            "[[0 1 1 1]]\n",
            "[[0.         1.37786345 1.39877619 2.77663964]]\n",
            "[[0 1 1 1]]\n",
            "[[0.         1.38142466 1.40224391 2.78366857]]\n",
            "[[0 1 1 1]]\n",
            "[[0.         1.38496568 1.4056922  2.79065789]]\n",
            "[[0 1 1 1]]\n",
            "[[0.         1.38848674 1.40912129 2.79760804]]\n",
            "[[0 1 1 1]]\n",
            "[[0.         1.39198806 1.41253139 2.80451945]]\n",
            "[[0 1 1 1]]\n",
            "[[0.         1.39546985 1.41592269 2.81139254]]\n",
            "[[0 1 1 1]]\n",
            "[[0.         1.39893232 1.41929541 2.81822773]]\n",
            "[[0 1 1 1]]\n",
            "[[0.         1.40237569 1.42264974 2.82502543]]\n",
            "[[0 1 1 1]]\n"
          ]
        }
      ]
    },
    {
      "cell_type": "code",
      "source": [
        "plt.plot(losses)\n",
        "plt.xlabel(\"EPOCHS\")\n",
        "plt.ylabel(\"Loss val\")"
      ],
      "metadata": {
        "colab": {
          "base_uri": "https://localhost:8080/",
          "height": 468
        },
        "id": "G7notBdfFM6W",
        "outputId": "218676d8-22ac-47a2-f59b-a335f77b5e2b"
      },
      "execution_count": null,
      "outputs": [
        {
          "output_type": "execute_result",
          "data": {
            "text/plain": [
              "Text(0, 0.5, 'Loss val')"
            ]
          },
          "metadata": {},
          "execution_count": 14
        },
        {
          "output_type": "display_data",
          "data": {
            "text/plain": [
              "<Figure size 640x480 with 1 Axes>"
            ],
            "image/png": "[encoded data removed]"
          },
          "metadata": {}
        }
      ]
    }
  ]
}