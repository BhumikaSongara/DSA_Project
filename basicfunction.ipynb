{
  "nbformat": 4,
  "nbformat_minor": 0,
  "metadata": {
    "colab": {
      "provenance": [],
      "authorship_tag": "ABX9TyM4vfgwuCx0dwNewEvVUdEr",
      "include_colab_link": true
    },
    "kernelspec": {
      "name": "python3",
      "display_name": "Python 3"
    },
    "language_info": {
      "name": "python"
    }
  },
  "cells": [
    {
      "cell_type": "markdown",
      "metadata": {
        "id": "view-in-github",
        "colab_type": "text"
      },
      "source": [
        "<a href=\"https://colab.research.google.com/github/BhumikaSongara/DSA_Project/blob/main/basicfunction.ipynb\" target=\"_parent\"><img src=\"https://colab.research.google.com/assets/colab-badge.svg\" alt=\"Open In Colab\"/></a>"
      ]
    },
    {
      "cell_type": "code",
      "source": [],
      "metadata": {
        "id": "LIWwos5l6haG"
      },
      "execution_count": null,
      "outputs": []
    },
    {
      "cell_type": "code",
      "source": [],
      "metadata": {
        "id": "DZekZBU26hV_"
      },
      "execution_count": null,
      "outputs": []
    },
    {
      "cell_type": "code",
      "source": [],
      "metadata": {
        "id": "BxLN-kSg6hR-"
      },
      "execution_count": null,
      "outputs": []
    },
    {
      "cell_type": "code",
      "source": [],
      "metadata": {
        "id": "ga2wdk7N6hOY"
      },
      "execution_count": null,
      "outputs": []
    },
    {
      "cell_type": "code",
      "source": [],
      "metadata": {
        "id": "EarPKrfV6hK2"
      },
      "execution_count": null,
      "outputs": []
    },
    {
      "cell_type": "code",
      "source": [],
      "metadata": {
        "id": "NWPyns6w6hHf"
      },
      "execution_count": null,
      "outputs": []
    },
    {
      "cell_type": "code",
      "source": [],
      "metadata": {
        "id": "ovUMzpNr6hEN"
      },
      "execution_count": null,
      "outputs": []
    },
    {
      "cell_type": "code",
      "source": [],
      "metadata": {
        "id": "Tm0yqpBr6hA_"
      },
      "execution_count": null,
      "outputs": []
    },
    {
      "cell_type": "code",
      "source": [],
      "metadata": {
        "id": "7XskdSw86g9m"
      },
      "execution_count": null,
      "outputs": []
    },
    {
      "cell_type": "code",
      "source": [],
      "metadata": {
        "id": "CSISf5ci6g5u"
      },
      "execution_count": null,
      "outputs": []
    },
    {
      "cell_type": "code",
      "source": [],
      "metadata": {
        "id": "547mUMeb6g2N"
      },
      "execution_count": null,
      "outputs": []
    },
    {
      "cell_type": "code",
      "source": [],
      "metadata": {
        "id": "D_ZDrGNB6goF"
      },
      "execution_count": null,
      "outputs": []
    },
    {
      "cell_type": "code",
      "source": [
        "import numpy as np\n",
        "import matplotlib.pyplot as plt\n",
        "\n",
        "xv = np.random.rand(10)\n",
        "print(xv)\n",
        "print(type(xv), xv.ndim, xv.shape)\n",
        "\n",
        "for x1, x2 in zip(xv, xv):\n",
        "    print(x1, x2)\n",
        "\n",
        "#define function\n",
        "#vector to vector\n",
        "def v_v(wx, wv):\n",
        "    total = 0\n",
        "    for w, x in zip(wv, xv):\n",
        "        total += w * x\n",
        "    return total\n",
        "\n",
        "w = np.random.rand(10)\n",
        "x = np.ones_like(w)\n",
        "print(v_v(w, x))\n",
        "print(np.sum(w))\n",
        "\n",
        "#Matrix to vector\n",
        "def m_v(wm, xv):\n",
        "    total = []\n",
        "    for wv in wm:\n",
        "        total.append(v_v(wv, xv))\n",
        "    return total\n",
        "\n",
        "#Test the function\n",
        "w = np.random.rand(10, 10)\n",
        "x = np.ones(10)\n",
        "print(m_v(w, x))\n",
        "print(np.sum(w))\n",
        "\n",
        "#Matrix to matrix product\n",
        "def m_m(wm, xm):\n",
        "    total = []\n",
        "    for w, x in zip(wm, xm.T):\n",
        "        total.append(v_v(w, x))\n",
        "    return total\n",
        "\n",
        "w = np.random.rand(10, 10)\n",
        "x = np.ones((10, 10))\n",
        "print(m_m(w, x))\n",
        "print(np.sum(w))\n"
      ],
      "metadata": {
        "colab": {
          "base_uri": "https://localhost:8080/"
        },
        "id": "fk5ZzegW41cQ",
        "outputId": "88f25ff2-2ec2-4b80-b1c3-2630b93a8631"
      },
      "execution_count": 5,
      "outputs": [
        {
          "output_type": "stream",
          "name": "stdout",
          "text": [
            "[0.68121042 0.54819473 0.24375658 0.71343521 0.03092106 0.30206126\n",
            " 0.91535385 0.01854225 0.47101012 0.21428222]\n",
            "<class 'numpy.ndarray'> 1 (10,)\n",
            "0.6812104189246543 0.6812104189246543\n",
            "0.5481947251923661 0.5481947251923661\n",
            "0.2437565784994974 0.2437565784994974\n",
            "0.7134352061267686 0.7134352061267686\n",
            "0.030921063782082814 0.030921063782082814\n",
            "0.3020612625913338 0.3020612625913338\n",
            "0.9153538455813472 0.9153538455813472\n",
            "0.01854224693728246 0.01854224693728246\n",
            "0.47101011563284234 0.47101011563284234\n",
            "0.2142822203851955 0.2142822203851955\n",
            "4.138767683653371\n",
            "3.247880515172742\n",
            "[4.138767683653371, 4.138767683653371, 4.138767683653371, 4.138767683653371, 4.138767683653371, 4.138767683653371, 4.138767683653371, 4.138767683653371, 4.138767683653371, 4.138767683653371]\n",
            "50.76423753616872\n",
            "[4.138767683653371, 4.138767683653371, 4.138767683653371, 4.138767683653371, 4.138767683653371, 4.138767683653371, 4.138767683653371, 4.138767683653371, 4.138767683653371, 4.138767683653371]\n",
            "46.028196394836684\n"
          ]
        }
      ]
    }
  ]
}